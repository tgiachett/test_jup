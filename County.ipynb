{
 "cells": [
  {
   "cell_type": "code",
   "execution_count": 1,
   "metadata": {},
   "outputs": [],
   "source": [
    "import numpy as np\n",
    "import pandas as pd\n",
    "import matplotlib.pyplot as plt"
   ]
  },
  {
   "cell_type": "code",
   "execution_count": 2,
   "metadata": {},
   "outputs": [],
   "source": [
    "set = pd.read_csv('us-counties.csv', delimiter = ',')"
   ]
  },
  {
   "cell_type": "code",
   "execution_count": 3,
   "metadata": {},
   "outputs": [],
   "source": [
    "state = set.loc[set['state'] == 'North Carolina']"
   ]
  },
  {
   "cell_type": "code",
   "execution_count": 4,
   "metadata": {},
   "outputs": [],
   "source": [
    "county = cali.loc[state['county'] == 'Orange']"
   ]
  },
  {
   "cell_type": "code",
   "execution_count": 5,
   "metadata": {},
   "outputs": [
    {
     "data": {
      "text/html": [
       "<div>\n",
       "<style scoped>\n",
       "    .dataframe tbody tr th:only-of-type {\n",
       "        vertical-align: middle;\n",
       "    }\n",
       "\n",
       "    .dataframe tbody tr th {\n",
       "        vertical-align: top;\n",
       "    }\n",
       "\n",
       "    .dataframe thead th {\n",
       "        text-align: right;\n",
       "    }\n",
       "</style>\n",
       "<table border=\"1\" class=\"dataframe\">\n",
       "  <thead>\n",
       "    <tr style=\"text-align: right;\">\n",
       "      <th></th>\n",
       "      <th>date</th>\n",
       "      <th>county</th>\n",
       "      <th>state</th>\n",
       "      <th>fips</th>\n",
       "      <th>cases</th>\n",
       "      <th>deaths</th>\n",
       "    </tr>\n",
       "  </thead>\n",
       "  <tbody>\n",
       "    <tr>\n",
       "      <th>3248</th>\n",
       "      <td>2020-03-17</td>\n",
       "      <td>Monterey</td>\n",
       "      <td>California</td>\n",
       "      <td>6053.0</td>\n",
       "      <td>2</td>\n",
       "      <td>0</td>\n",
       "    </tr>\n",
       "    <tr>\n",
       "      <th>3802</th>\n",
       "      <td>2020-03-18</td>\n",
       "      <td>Monterey</td>\n",
       "      <td>California</td>\n",
       "      <td>6053.0</td>\n",
       "      <td>2</td>\n",
       "      <td>0</td>\n",
       "    </tr>\n",
       "    <tr>\n",
       "      <th>4462</th>\n",
       "      <td>2020-03-19</td>\n",
       "      <td>Monterey</td>\n",
       "      <td>California</td>\n",
       "      <td>6053.0</td>\n",
       "      <td>2</td>\n",
       "      <td>0</td>\n",
       "    </tr>\n",
       "    <tr>\n",
       "      <th>5237</th>\n",
       "      <td>2020-03-20</td>\n",
       "      <td>Monterey</td>\n",
       "      <td>California</td>\n",
       "      <td>6053.0</td>\n",
       "      <td>5</td>\n",
       "      <td>0</td>\n",
       "    </tr>\n",
       "    <tr>\n",
       "      <th>6158</th>\n",
       "      <td>2020-03-21</td>\n",
       "      <td>Monterey</td>\n",
       "      <td>California</td>\n",
       "      <td>6053.0</td>\n",
       "      <td>11</td>\n",
       "      <td>1</td>\n",
       "    </tr>\n",
       "    <tr>\n",
       "      <th>7192</th>\n",
       "      <td>2020-03-22</td>\n",
       "      <td>Monterey</td>\n",
       "      <td>California</td>\n",
       "      <td>6053.0</td>\n",
       "      <td>14</td>\n",
       "      <td>1</td>\n",
       "    </tr>\n",
       "    <tr>\n",
       "      <th>8335</th>\n",
       "      <td>2020-03-23</td>\n",
       "      <td>Monterey</td>\n",
       "      <td>California</td>\n",
       "      <td>6053.0</td>\n",
       "      <td>20</td>\n",
       "      <td>1</td>\n",
       "    </tr>\n",
       "    <tr>\n",
       "      <th>9579</th>\n",
       "      <td>2020-03-24</td>\n",
       "      <td>Monterey</td>\n",
       "      <td>California</td>\n",
       "      <td>6053.0</td>\n",
       "      <td>20</td>\n",
       "      <td>1</td>\n",
       "    </tr>\n",
       "    <tr>\n",
       "      <th>10954</th>\n",
       "      <td>2020-03-25</td>\n",
       "      <td>Monterey</td>\n",
       "      <td>California</td>\n",
       "      <td>6053.0</td>\n",
       "      <td>24</td>\n",
       "      <td>1</td>\n",
       "    </tr>\n",
       "    <tr>\n",
       "      <th>12505</th>\n",
       "      <td>2020-03-26</td>\n",
       "      <td>Monterey</td>\n",
       "      <td>California</td>\n",
       "      <td>6053.0</td>\n",
       "      <td>24</td>\n",
       "      <td>1</td>\n",
       "    </tr>\n",
       "    <tr>\n",
       "      <th>14182</th>\n",
       "      <td>2020-03-27</td>\n",
       "      <td>Monterey</td>\n",
       "      <td>California</td>\n",
       "      <td>6053.0</td>\n",
       "      <td>27</td>\n",
       "      <td>1</td>\n",
       "    </tr>\n",
       "    <tr>\n",
       "      <th>15975</th>\n",
       "      <td>2020-03-28</td>\n",
       "      <td>Monterey</td>\n",
       "      <td>California</td>\n",
       "      <td>6053.0</td>\n",
       "      <td>27</td>\n",
       "      <td>1</td>\n",
       "    </tr>\n",
       "    <tr>\n",
       "      <th>17876</th>\n",
       "      <td>2020-03-29</td>\n",
       "      <td>Monterey</td>\n",
       "      <td>California</td>\n",
       "      <td>6053.0</td>\n",
       "      <td>32</td>\n",
       "      <td>1</td>\n",
       "    </tr>\n",
       "    <tr>\n",
       "      <th>19867</th>\n",
       "      <td>2020-03-30</td>\n",
       "      <td>Monterey</td>\n",
       "      <td>California</td>\n",
       "      <td>6053.0</td>\n",
       "      <td>36</td>\n",
       "      <td>1</td>\n",
       "    </tr>\n",
       "    <tr>\n",
       "      <th>21955</th>\n",
       "      <td>2020-03-31</td>\n",
       "      <td>Monterey</td>\n",
       "      <td>California</td>\n",
       "      <td>6053.0</td>\n",
       "      <td>42</td>\n",
       "      <td>2</td>\n",
       "    </tr>\n",
       "    <tr>\n",
       "      <th>24127</th>\n",
       "      <td>2020-04-01</td>\n",
       "      <td>Monterey</td>\n",
       "      <td>California</td>\n",
       "      <td>6053.0</td>\n",
       "      <td>42</td>\n",
       "      <td>2</td>\n",
       "    </tr>\n",
       "  </tbody>\n",
       "</table>\n",
       "</div>"
      ],
      "text/plain": [
       "             date    county       state    fips  cases  deaths\n",
       "3248   2020-03-17  Monterey  California  6053.0      2       0\n",
       "3802   2020-03-18  Monterey  California  6053.0      2       0\n",
       "4462   2020-03-19  Monterey  California  6053.0      2       0\n",
       "5237   2020-03-20  Monterey  California  6053.0      5       0\n",
       "6158   2020-03-21  Monterey  California  6053.0     11       1\n",
       "7192   2020-03-22  Monterey  California  6053.0     14       1\n",
       "8335   2020-03-23  Monterey  California  6053.0     20       1\n",
       "9579   2020-03-24  Monterey  California  6053.0     20       1\n",
       "10954  2020-03-25  Monterey  California  6053.0     24       1\n",
       "12505  2020-03-26  Monterey  California  6053.0     24       1\n",
       "14182  2020-03-27  Monterey  California  6053.0     27       1\n",
       "15975  2020-03-28  Monterey  California  6053.0     27       1\n",
       "17876  2020-03-29  Monterey  California  6053.0     32       1\n",
       "19867  2020-03-30  Monterey  California  6053.0     36       1\n",
       "21955  2020-03-31  Monterey  California  6053.0     42       2\n",
       "24127  2020-04-01  Monterey  California  6053.0     42       2"
      ]
     },
     "execution_count": 5,
     "metadata": {},
     "output_type": "execute_result"
    }
   ],
   "source": [
    "county"
   ]
  },
  {
   "cell_type": "code",
   "execution_count": 6,
   "metadata": {},
   "outputs": [],
   "source": [
    "x = monterey['date']"
   ]
  },
  {
   "cell_type": "code",
   "execution_count": 7,
   "metadata": {},
   "outputs": [],
   "source": [
    "y = monterey['cases']"
   ]
  },
  {
   "cell_type": "code",
   "execution_count": 8,
   "metadata": {},
   "outputs": [
    {
     "data": {
      "image/png": "[encoded data removed]",
      "text/plain": [
       "<Figure size 360x360 with 1 Axes>"
      ]
     },
     "metadata": {
      "needs_background": "light"
     },
     "output_type": "display_data"
    }
   ],
   "source": [
    "fig = plt.figure(figsize=(5,5))\n",
    "ax0 = fig.add_subplot(111)\n",
    "ax0.bar(x, y)\n",
    "ax0.set_xticklabels(x, rotation='vertical')\n",
    "fig.subplots_adjust(bottom=0.42)\n",
    "fig.savefig(\"monterey.svg\")"
   ]
  },
  {
   "cell_type": "code",
   "execution_count": null,
   "metadata": {},
   "outputs": [],
   "source": []
  },
  {
   "cell_type": "code",
   "execution_count": null,
   "metadata": {},
   "outputs": [],
   "source": []
  }
 ],
 "metadata": {
  "kernelspec": {
   "display_name": "Python 3",
   "language": "python",
   "name": "python3"
  },
  "language_info": {
   "codemirror_mode": {
    "name": "ipython",
    "version": 3
   },
   "file_extension": ".py",
   "mimetype": "text/x-python",
   "name": "python",
   "nbconvert_exporter": "python",
   "pygments_lexer": "ipython3",
   "version": "3.8.2"
  }
 },
 "nbformat": 4,
 "nbformat_minor": 4
}
