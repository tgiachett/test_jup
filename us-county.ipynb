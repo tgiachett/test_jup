{
 "cells": [
  {
   "cell_type": "code",
   "execution_count": 46,
   "metadata": {},
   "outputs": [],
   "source": [
    "import numpy as np\n",
    "import pandas as pd\n",
    "import matplotlib.pyplot as plt"
   ]
  },
  {
   "cell_type": "code",
   "execution_count": 47,
   "metadata": {},
   "outputs": [],
   "source": [
    "set = pd.read_csv('us-counties.csv', delimiter = ',')"
   ]
  },
  {
   "cell_type": "code",
   "execution_count": 48,
   "metadata": {},
   "outputs": [],
   "source": [
    "state = set.loc[set['state'] == 'North Carolina']"
   ]
  },
  {
   "cell_type": "code",
   "execution_count": 49,
   "metadata": {},
   "outputs": [],
   "source": [
    "county = state.loc[state['county'] == 'Orange'].tail(10)"
   ]
  },
  {
   "cell_type": "code",
   "execution_count": 50,
   "metadata": {},
   "outputs": [
    {
     "data": {
      "text/html": [
       "<div>\n",
       "<style scoped>\n",
       "    .dataframe tbody tr th:only-of-type {\n",
       "        vertical-align: middle;\n",
       "    }\n",
       "\n",
       "    .dataframe tbody tr th {\n",
       "        vertical-align: top;\n",
       "    }\n",
       "\n",
       "    .dataframe thead th {\n",
       "        text-align: right;\n",
       "    }\n",
       "</style>\n",
       "<table border=\"1\" class=\"dataframe\">\n",
       "  <thead>\n",
       "    <tr style=\"text-align: right;\">\n",
       "      <th></th>\n",
       "      <th>date</th>\n",
       "      <th>county</th>\n",
       "      <th>state</th>\n",
       "      <th>fips</th>\n",
       "      <th>cases</th>\n",
       "      <th>deaths</th>\n",
       "    </tr>\n",
       "  </thead>\n",
       "  <tbody>\n",
       "    <tr>\n",
       "      <th>9071</th>\n",
       "      <td>2020-03-23</td>\n",
       "      <td>Orange</td>\n",
       "      <td>North Carolina</td>\n",
       "      <td>37135.0</td>\n",
       "      <td>6</td>\n",
       "      <td>0</td>\n",
       "    </tr>\n",
       "    <tr>\n",
       "      <th>10385</th>\n",
       "      <td>2020-03-24</td>\n",
       "      <td>Orange</td>\n",
       "      <td>North Carolina</td>\n",
       "      <td>37135.0</td>\n",
       "      <td>11</td>\n",
       "      <td>0</td>\n",
       "    </tr>\n",
       "    <tr>\n",
       "      <th>11835</th>\n",
       "      <td>2020-03-25</td>\n",
       "      <td>Orange</td>\n",
       "      <td>North Carolina</td>\n",
       "      <td>37135.0</td>\n",
       "      <td>13</td>\n",
       "      <td>0</td>\n",
       "    </tr>\n",
       "    <tr>\n",
       "      <th>13448</th>\n",
       "      <td>2020-03-26</td>\n",
       "      <td>Orange</td>\n",
       "      <td>North Carolina</td>\n",
       "      <td>37135.0</td>\n",
       "      <td>16</td>\n",
       "      <td>0</td>\n",
       "    </tr>\n",
       "    <tr>\n",
       "      <th>15193</th>\n",
       "      <td>2020-03-27</td>\n",
       "      <td>Orange</td>\n",
       "      <td>North Carolina</td>\n",
       "      <td>37135.0</td>\n",
       "      <td>24</td>\n",
       "      <td>0</td>\n",
       "    </tr>\n",
       "    <tr>\n",
       "      <th>17035</th>\n",
       "      <td>2020-03-28</td>\n",
       "      <td>Orange</td>\n",
       "      <td>North Carolina</td>\n",
       "      <td>37135.0</td>\n",
       "      <td>27</td>\n",
       "      <td>0</td>\n",
       "    </tr>\n",
       "    <tr>\n",
       "      <th>18980</th>\n",
       "      <td>2020-03-29</td>\n",
       "      <td>Orange</td>\n",
       "      <td>North Carolina</td>\n",
       "      <td>37135.0</td>\n",
       "      <td>29</td>\n",
       "      <td>0</td>\n",
       "    </tr>\n",
       "    <tr>\n",
       "      <th>21030</th>\n",
       "      <td>2020-03-30</td>\n",
       "      <td>Orange</td>\n",
       "      <td>North Carolina</td>\n",
       "      <td>37135.0</td>\n",
       "      <td>30</td>\n",
       "      <td>0</td>\n",
       "    </tr>\n",
       "    <tr>\n",
       "      <th>23175</th>\n",
       "      <td>2020-03-31</td>\n",
       "      <td>Orange</td>\n",
       "      <td>North Carolina</td>\n",
       "      <td>37135.0</td>\n",
       "      <td>35</td>\n",
       "      <td>0</td>\n",
       "    </tr>\n",
       "    <tr>\n",
       "      <th>25379</th>\n",
       "      <td>2020-04-01</td>\n",
       "      <td>Orange</td>\n",
       "      <td>North Carolina</td>\n",
       "      <td>37135.0</td>\n",
       "      <td>37</td>\n",
       "      <td>0</td>\n",
       "    </tr>\n",
       "  </tbody>\n",
       "</table>\n",
       "</div>"
      ],
      "text/plain": [
       "             date  county           state     fips  cases  deaths\n",
       "9071   2020-03-23  Orange  North Carolina  37135.0      6       0\n",
       "10385  2020-03-24  Orange  North Carolina  37135.0     11       0\n",
       "11835  2020-03-25  Orange  North Carolina  37135.0     13       0\n",
       "13448  2020-03-26  Orange  North Carolina  37135.0     16       0\n",
       "15193  2020-03-27  Orange  North Carolina  37135.0     24       0\n",
       "17035  2020-03-28  Orange  North Carolina  37135.0     27       0\n",
       "18980  2020-03-29  Orange  North Carolina  37135.0     29       0\n",
       "21030  2020-03-30  Orange  North Carolina  37135.0     30       0\n",
       "23175  2020-03-31  Orange  North Carolina  37135.0     35       0\n",
       "25379  2020-04-01  Orange  North Carolina  37135.0     37       0"
      ]
     },
     "execution_count": 50,
     "metadata": {},
     "output_type": "execute_result"
    }
   ],
   "source": [
    "county"
   ]
  },
  {
   "cell_type": "code",
   "execution_count": 51,
   "metadata": {},
   "outputs": [],
   "source": [
    "x = county['date']"
   ]
  },
  {
   "cell_type": "code",
   "execution_count": 52,
   "metadata": {},
   "outputs": [],
   "source": [
    "y = county['cases']"
   ]
  },
  {
   "cell_type": "code",
   "execution_count": 53,
   "metadata": {},
   "outputs": [
    {
     "data": {
      "image/png": "[encoded data removed]",
      "text/plain": [
       "<Figure size 720x720 with 1 Axes>"
      ]
     },
     "metadata": {
      "needs_background": "light"
     },
     "output_type": "display_data"
    }
   ],
   "source": [
    "fig = plt.figure(figsize=(10,10))\n",
    "ax0 = fig.add_subplot(111)\n",
    "ax0.bar(x, y)\n",
    "ax0.set_xticklabels(x, rotation='vertical')\n",
    "fig.subplots_adjust(bottom=0.42)\n",
    "fig.savefig(\"county.svg\")"
   ]
  },
  {
   "cell_type": "code",
   "execution_count": null,
   "metadata": {},
   "outputs": [],
   "source": []
  },
  {
   "cell_type": "code",
   "execution_count": null,
   "metadata": {},
   "outputs": [],
   "source": []
  },
  {
   "cell_type": "code",
   "execution_count": null,
   "metadata": {},
   "outputs": [],
   "source": []
  },
  {
   "cell_type": "code",
   "execution_count": null,
   "metadata": {},
   "outputs": [],
   "source": []
  }
 ],
 "metadata": {
  "kernelspec": {
   "display_name": "Python 3",
   "language": "python",
   "name": "python3"
  },
  "language_info": {
   "codemirror_mode": {
    "name": "ipython",
    "version": 3
   },
   "file_extension": ".py",
   "mimetype": "text/x-python",
   "name": "python",
   "nbconvert_exporter": "python",
   "pygments_lexer": "ipython3",
   "version": "3.8.2"
  }
 },
 "nbformat": 4,
 "nbformat_minor": 4
}
